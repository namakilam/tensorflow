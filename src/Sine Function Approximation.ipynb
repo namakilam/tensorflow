{
 "cells": [
  {
   "cell_type": "code",
   "execution_count": 1,
   "metadata": {
    "collapsed": true
   },
   "outputs": [],
   "source": [
    "import numpy as np\n",
    "import random\n",
    "import tensorflow as tf\n",
    "import pandas as pd\n",
    "import matplotlib.pyplot as plt"
   ]
  },
  {
   "cell_type": "code",
   "execution_count": 26,
   "metadata": {
    "collapsed": true
   },
   "outputs": [],
   "source": [
    "W_l1 = weight_variable([1, 20])\n",
    "B_l1 = bias_variable([20])\n",
    "    \n",
    "W_o = weight_variable([20, 1])\n",
    "B_o = weight_variable([1])\n",
    "\n",
    "def weight_variable(shape):\n",
    "  initial = tf.truncated_normal(shape, stddev=0.1)\n",
    "  return tf.Variable(initial)\n",
    "\n",
    "def bias_variable(shape):\n",
    "  initial = tf.constant(0.1, shape=shape)\n",
    "  return tf.Variable(initial)\n",
    "\n",
    "def bipolar_sigmoid(z):\n",
    "    return (1 - tf.exp(-1.0 *z))/(1 + tf.exp(-1.0 *z))\n",
    "    \n",
    "def sine_ann_model(x):\n",
    "    #input_layer\n",
    "    input_layer = tf.reshape(x, [-1, 1])\n",
    "    \n",
    "    # hidden_layer_1\n",
    "    hl1 = bipolar_sigmoid(tf.matmul(input_layer, W_l1) + B_l1)\n",
    "    # output_layer\n",
    "    output_layer = bipolar_sigmoid(tf.matmul(hl1, W_o) + B_o)\n",
    "    return output_layer"
   ]
  },
  {
   "cell_type": "code",
   "execution_count": 27,
   "metadata": {
    "collapsed": true
   },
   "outputs": [],
   "source": [
    "import math\n",
    "def generate_sine_model_data(test_size = 0.3):\n",
    "    dataset = []\n",
    "    for x in np.arange(-1.0 * (math.pi), (math.pi), 0.05):\n",
    "        dataset.append([[x], [math.sin(x)]])\n",
    "        \n",
    "    random.shuffle(dataset)\n",
    "    dataset = np.array(dataset)\n",
    "\n",
    "    # split a portion of the features into tests\n",
    "    testing_size = int(test_size*len(dataset))\n",
    "\n",
    "    # create train and test lists\n",
    "    train_x = list(dataset[:,0][:-testing_size])\n",
    "    train_y = list(dataset[:,1][:-testing_size])\n",
    "    test_x = list(dataset[:,0][-testing_size:])\n",
    "    test_y = list(dataset[:,1][-testing_size:])\n",
    "\n",
    "    return train_x, train_y, test_x, test_y\n",
    "\n",
    "train_x, train_y, test_x, test_y = generate_sine_model_data()"
   ]
  },
  {
   "cell_type": "code",
   "execution_count": 31,
   "metadata": {
    "collapsed": false
   },
   "outputs": [
    {
     "name": "stdout",
     "output_type": "stream",
     "text": [
      "('Epoch', 0, 'completed out of', 2000, 'cost:', 0.11883608)\n",
      "('Epoch', 400, 'completed out of', 2000, 'cost:', 0.0025042749)\n",
      "('Epoch', 800, 'completed out of', 2000, 'cost:', 0.0025574027)\n",
      "('Epoch', 1200, 'completed out of', 2000, 'cost:', 0.0024024302)\n",
      "('Epoch', 1600, 'completed out of', 2000, 'cost:', 0.0019419065)\n",
      "('Accuracy:', 0.00090599043)\n"
     ]
    },
    {
     "data": {
      "image/png": "[encoded data removed]",
      "text/plain": [
       "<matplotlib.figure.Figure at 0x124c9e650>"
      ]
     },
     "metadata": {},
     "output_type": "display_data"
    }
   ],
   "source": [
    "x = tf.placeholder('float')\n",
    "y = tf.placeholder('float')\n",
    "epochs = 2000\n",
    "batch_size = 10\n",
    "def train_ann_sine_function(x):\n",
    "    prediction = sine_ann_model(x)\n",
    "    \n",
    "    cost = tf.reduce_mean(tf.square(prediction - y))\n",
    "    \n",
    "    optimizer = tf.train.GradientDescentOptimizer(1.0).minimize(cost)\n",
    "    \n",
    "    with tf.Session() as sess:\n",
    "        summary_writer = tf.summary.FileWriter('log_ANN_graph', sess.graph)\n",
    "        # initialize our variables\n",
    "        sess.run(tf.global_variables_initializer())\n",
    "\n",
    "        # loop through specified number of iterations\n",
    "        for epoch in range(epochs):\n",
    "            epoch_loss = 0\n",
    "            i=0\n",
    "            # handle batch sized chunks of training data\n",
    "            while i < len(train_x):\n",
    "                start = i\n",
    "                end = i+batch_size\n",
    "                batch_x = np.array(train_x[start:end])\n",
    "                batch_y = np.array(train_y[start:end])\n",
    "\n",
    "                _, c = sess.run([optimizer, cost], feed_dict={x: batch_x, y: batch_y})\n",
    "                epoch_loss += c\n",
    "                i+=batch_size\n",
    "                last_cost = c\n",
    "\n",
    "            # print cost updates along the way\n",
    "            if (epoch% (epochs/5)) == 0:\n",
    "                print('Epoch', epoch, 'completed out of',epochs,'cost:', last_cost)\n",
    "        \n",
    "        # print accuracy of our model\n",
    "        accuracy = tf.reduce_mean(tf.square(prediction - y))\n",
    "        print('Accuracy:',accuracy.eval({x:test_x, y:test_y}))\n",
    "\n",
    "        output_weight = sess.run(W_o)\n",
    "        #output_bias = sess.run(output_layer['bias'])\n",
    "        \n",
    "        # print predictions using our model\n",
    "        test_pred = []\n",
    "        for i,t in enumerate(test_x):\n",
    "            output = prediction.eval(feed_dict = {x: [test_x[i]]})\n",
    "            # normalize the prediction values\n",
    "            test_pred.append(output[0][0])\n",
    "        plt.scatter(train_x, train_y, color='r')\n",
    "        plt.scatter(test_x, test_pred, color='b')\n",
    "        plt.show()\n",
    "        return output_weight\n",
    "        \n",
    "output_weight = train_ann_sine_function(x)"
   ]
  },
  {
   "cell_type": "code",
   "execution_count": 32,
   "metadata": {
    "collapsed": false
   },
   "outputs": [
    {
     "data": {
      "image/png": "[encoded data removed]",
      "text/plain": [
       "<matplotlib.figure.Figure at 0x11fcefe50>"
      ]
     },
     "metadata": {},
     "output_type": "display_data"
    }
   ],
   "source": [
    "plt.title('output layer weights')\n",
    "plt.imshow(output_weight.reshape([1, 20]), cmap=plt.get_cmap('seismic'))\n",
    "frame1 = plt.gca()\n",
    "frame1.axes.get_xaxis().set_visible(False)\n",
    "frame1.axes.get_yaxis().set_visible(False) \n",
    "plt.show()"
   ]
  },
  {
   "cell_type": "code",
   "execution_count": null,
   "metadata": {
    "collapsed": true
   },
   "outputs": [],
   "source": []
  }
 ],
 "metadata": {
  "anaconda-cloud": {},
  "kernelspec": {
   "display_name": "Python [conda root]",
   "language": "python",
   "name": "conda-root-py"
  },
  "language_info": {
   "codemirror_mode": {
    "name": "ipython",
    "version": 2
   },
   "file_extension": ".py",
   "mimetype": "text/x-python",
   "name": "python",
   "nbconvert_exporter": "python",
   "pygments_lexer": "ipython2",
   "version": "2.7.12"
  }
 },
 "nbformat": 4,
 "nbformat_minor": 2
}
