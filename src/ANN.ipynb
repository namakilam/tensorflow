{
 "cells": [
  {
   "cell_type": "code",
   "execution_count": 3,
   "metadata": {
    "collapsed": true
   },
   "outputs": [],
   "source": [
    "import numpy as np\n",
    "import random\n",
    "import tensorflow as tf\n",
    "import pandas as pd\n",
    "import matplotlib.pyplot as plt"
   ]
  },
  {
   "cell_type": "code",
   "execution_count": 4,
   "metadata": {
    "collapsed": true
   },
   "outputs": [],
   "source": [
    "def create_feature_sets_and_labels(test_size = 0.3):\n",
    "\n",
    "    # known patterns (5 features) output of [1] of positions [0,4]==1\n",
    "    features = []\n",
    "    features.append([[0, 0, 0, 0, 0], [0,1]])\n",
    "    features.append([[0, 0, 0, 0, 1], [0,1]])\n",
    "    features.append([[0, 0, 0, 1, 1], [0,1]])\n",
    "    features.append([[0, 0, 1, 1, 1], [0,1]])\n",
    "    features.append([[0, 1, 1, 1, 1], [0,1]])\n",
    "    features.append([[1, 1, 1, 1, 0], [0,1]])\n",
    "    features.append([[1, 1, 1, 0, 0], [0,1]])\n",
    "    features.append([[1, 1, 0, 0, 0], [0,1]])\n",
    "    features.append([[1, 0, 0, 0, 0], [0,1]])\n",
    "    features.append([[1, 0, 0, 1, 0], [0,1]])\n",
    "    features.append([[1, 0, 1, 1, 0], [0,1]])\n",
    "    features.append([[1, 1, 0, 1, 0], [0,1]])\n",
    "    features.append([[0, 1, 0, 1, 1], [0,1]])\n",
    "    features.append([[0, 0, 1, 0, 1], [0,1]])\n",
    "    features.append([[1, 0, 1, 1, 1], [1,0]])\n",
    "    features.append([[1, 1, 0, 1, 1], [1,0]])\n",
    "    features.append([[1, 0, 1, 0, 1], [1,0]])\n",
    "    features.append([[1, 0, 0, 0, 1], [1,0]])\n",
    "    features.append([[1, 1, 0, 0, 1], [1,0]])\n",
    "    features.append([[1, 1, 1, 0, 1], [1,0]])\n",
    "    features.append([[1, 1, 1, 1, 1], [1,0]])\n",
    "    features.append([[1, 0, 0, 1, 1], [1,0]])\n",
    "\n",
    "    # shuffle out features and turn into np.array\n",
    "    random.shuffle(features)\n",
    "    features = np.array(features)\n",
    "\n",
    "    # split a portion of the features into tests\n",
    "    testing_size = int(test_size*len(features))\n",
    "\n",
    "    # create train and test lists\n",
    "    train_x = list(features[:,0][:-testing_size])\n",
    "    train_y = list(features[:,1][:-testing_size])\n",
    "    test_x = list(features[:,0][-testing_size:])\n",
    "    test_y = list(features[:,1][-testing_size:])\n",
    "\n",
    "    return train_x, train_y, test_x, test_y"
   ]
  },
  {
   "cell_type": "code",
   "execution_count": 6,
   "metadata": {
    "collapsed": false
   },
   "outputs": [
    {
     "name": "stdout",
     "output_type": "stream",
     "text": [
      "Shape of Data : <unknown>\n",
      "('Epoch', 0, 'completed out of', 1000, 'cost:', 0.96334022)\n",
      "('Epoch', 200, 'completed out of', 1000, 'cost:', 0.00081153068)\n",
      "('Epoch', 400, 'completed out of', 1000, 'cost:', 0.00030233618)\n",
      "('Epoch', 600, 'completed out of', 1000, 'cost:', 0.00018004152)\n",
      "('Epoch', 800, 'completed out of', 1000, 'cost:', 0.00012655855)\n",
      "('Accuracy:', 1.0)\n",
      "('prediction for:', [1, 0, 1, 1, 1])\n",
      "(0.99015546, 0.025773348)\n",
      "('prediction for:', [1, 1, 1, 0, 1])\n",
      "(0.99166858, 0.021512832)\n",
      "('prediction for:', [1, 1, 1, 0, 0])\n",
      "(0.022831306, 0.99505121)\n",
      "('prediction for:', [1, 1, 1, 1, 0])\n",
      "(0.015568913, 0.99678802)\n",
      "('prediction for:', [0, 0, 0, 1, 1])\n",
      "(0.018367682, 0.99638593)\n",
      "('prediction for:', [0, 0, 1, 0, 1])\n",
      "(0.029929532, 0.99373686)\n"
     ]
    }
   ],
   "source": [
    "train_x, train_y, test_x, test_y = create_feature_sets_and_labels()\n",
    "\n",
    "x = tf.placeholder('float')\n",
    "y = tf.placeholder('float')\n",
    "\n",
    "# classes in our output\n",
    "n_classes = 2\n",
    "# iterations and batch-size to build out model\n",
    "epochs = 2000\n",
    "batch_size = 4\n",
    "# Define Artificial Neural Network\n",
    "def ann_model(data):\n",
    "    # Input Layer\n",
    "    input_layer = tf.reshape(data, [-1, 5])\n",
    "    \n",
    "    # First Hidden Layer\n",
    "    hidden_layer_1 = tf.layers.dense(inputs=input_layer,\n",
    "                                    units=20,\n",
    "                                    activation=tf.sigmoid)\n",
    "    # Second Hidden Layer\n",
    "    hidden_layer_2 = tf.layers.dense(inputs=hidden_layer_1,\n",
    "                                    units=20,\n",
    "                                    activation=tf.sigmoid)\n",
    "    # Output Layer\n",
    "    output_layer = tf.layers.dense(inputs=hidden_layer_2,\n",
    "                                  units=2,\n",
    "                                  activation=None)\n",
    "    return output_layer\n",
    "\n",
    "def train_neural_network(x):\n",
    "    prediction = ann_model(x)\n",
    "\n",
    "    # formula for cost (error)\n",
    "    cost = tf.reduce_mean( tf.nn.softmax_cross_entropy_with_logits(logits=prediction, labels=y) )\n",
    "\n",
    "    # optimize for cost using GradientDescent\n",
    "    optimizer = tf.train.GradientDescentOptimizer(1).minimize(cost)\n",
    "\n",
    "    with tf.Session() as sess:\n",
    "        summary_writer = tf.summary.FileWriter('log_ANN_graph', sess.graph)\n",
    "        # initialize our variables\n",
    "        sess.run(tf.global_variables_initializer())\n",
    "\n",
    "        # loop through specified number of iterations\n",
    "        for epoch in range(epochs):\n",
    "            epoch_loss = 0\n",
    "            i=0\n",
    "            # handle batch sized chunks of training data\n",
    "            while i < len(train_x):\n",
    "                start = i\n",
    "                end = i+batch_size\n",
    "                batch_x = np.array(train_x[start:end])\n",
    "                batch_y = np.array(train_y[start:end])\n",
    "\n",
    "                _, c = sess.run([optimizer, cost], feed_dict={x: batch_x, y: batch_y})\n",
    "                epoch_loss += c\n",
    "                i+=batch_size\n",
    "                last_cost = c\n",
    "\n",
    "            # print cost updates along the way\n",
    "            if (epoch% (epochs/5)) == 0:\n",
    "                print('Epoch', epoch, 'completed out of',epochs,'cost:', last_cost)\n",
    "        \n",
    "        # print accuracy of our model\n",
    "        correct = tf.equal(tf.argmax(prediction, 1), tf.argmax(y, 1))\n",
    "        accuracy = tf.reduce_mean(tf.cast(correct, 'float'))\n",
    "        print('Accuracy:',accuracy.eval({x:test_x, y:test_y}))\n",
    "\n",
    "        #output_weight = sess.run(output_layer['weight'])\n",
    "        #output_bias = sess.run(output_layer['bias'])\n",
    "        \n",
    "        # print predictions using our model\n",
    "        for i,t in enumerate(test_x):\n",
    "            print ('prediction for:', test_x[i])\n",
    "            output = prediction.eval(feed_dict = {x: [test_x[i]]})\n",
    "            # normalize the prediction values\n",
    "            print(tf.sigmoid(output[0][0]).eval(), tf.sigmoid(output[0][1]).eval())\n",
    "    \n",
    "train_neural_network(x)"
   ]
  },
  {
   "cell_type": "code",
   "execution_count": 49,
   "metadata": {
    "collapsed": true
   },
   "outputs": [],
   "source": [
    "# ANN Model to simulate Sine Function\n",
    "def init_weights(shape):\n",
    "    return tf.Variable(tf.random_normal(shape, stddev=0.01, dtype=tf.float32))\n",
    "\n",
    "def sine_ann_model(x):\n",
    "    #input_layer\n",
    "    input_layer = tf.reshape(x, [-1, 1])\n",
    "    \n",
    "    # hidden_layer_1\n",
    "    hl1 = tf.layers.dense(inputs=input_layer,\n",
    "                         units=8,\n",
    "                          kernel_initializer=tf.contrib.layers.xavier_initializer(),\n",
    "                         activation=tf.sigmoid)\n",
    "    # output_layer\n",
    "    output_layer = tf.layers.dense(inputs=hl1,\n",
    "                                  units=1,\n",
    "                                   kernel_initializer=tf.contrib.layers.xavier_initializer(),\n",
    "                                  activation=tf.sigmoid)\n",
    "    return output_layer"
   ]
  },
  {
   "cell_type": "code",
   "execution_count": 70,
   "metadata": {
    "collapsed": false
   },
   "outputs": [],
   "source": [
    "import math\n",
    "def generate_sine_model_data(test_size = 0.3):\n",
    "    dataset = []\n",
    "    for x in np.arange(0, (math.pi), 0.01):\n",
    "        dataset.append([[x], [math.sin(x)]])\n",
    "        \n",
    "    random.shuffle(dataset)\n",
    "    dataset = np.array(dataset)\n",
    "\n",
    "    # split a portion of the features into tests\n",
    "    testing_size = int(test_size*len(dataset))\n",
    "\n",
    "    # create train and test lists\n",
    "    train_x = list(dataset[:,0][:-testing_size])\n",
    "    train_y = list(dataset[:,1][:-testing_size])\n",
    "    test_x = list(dataset[:,0][-testing_size:])\n",
    "    test_y = list(dataset[:,1][-testing_size:])\n",
    "\n",
    "    return train_x, train_y, test_x, test_y\n",
    "\n",
    "train_x, train_y, test_x, test_y = generate_sine_model_data()"
   ]
  },
  {
   "cell_type": "code",
   "execution_count": 71,
   "metadata": {
    "collapsed": false
   },
   "outputs": [
    {
     "name": "stdout",
     "output_type": "stream",
     "text": [
      "('Epoch', 0, 'completed out of', 2000, 'cost:', 0.050613612)\n",
      "('Epoch', 400, 'completed out of', 2000, 'cost:', 4.3598069e-05)\n",
      "('Epoch', 800, 'completed out of', 2000, 'cost:', 4.633524e-06)\n",
      "('Epoch', 1200, 'completed out of', 2000, 'cost:', 2.9624052e-05)\n",
      "('Epoch', 1600, 'completed out of', 2000, 'cost:', 4.4899309e-05)\n",
      "('Accuracy:', 0.0002155472)\n"
     ]
    },
    {
     "data": {
      "image/png": "[encoded data removed]",
      "text/plain": [
       "<matplotlib.figure.Figure at 0x1234c1f90>"
      ]
     },
     "metadata": {},
     "output_type": "display_data"
    }
   ],
   "source": [
    "x = tf.placeholder('float')\n",
    "y = tf.placeholder('float')\n",
    "epochs = 2000\n",
    "def train_ann_sine_function(x):\n",
    "    prediction = sine_ann_model(x)\n",
    "    \n",
    "    cost = tf.reduce_mean(tf.square(prediction - y))\n",
    "    \n",
    "    optimizer = tf.train.GradientDescentOptimizer(1.0).minimize(cost)\n",
    "    \n",
    "    with tf.Session() as sess:\n",
    "        summary_writer = tf.summary.FileWriter('log_ANN_graph', sess.graph)\n",
    "        # initialize our variables\n",
    "        sess.run(tf.global_variables_initializer())\n",
    "\n",
    "        # loop through specified number of iterations\n",
    "        for epoch in range(epochs):\n",
    "            epoch_loss = 0\n",
    "            i=0\n",
    "            # handle batch sized chunks of training data\n",
    "            while i < len(train_x):\n",
    "                start = i\n",
    "                end = i+batch_size\n",
    "                batch_x = np.array(train_x[start:end])\n",
    "                batch_y = np.array(train_y[start:end])\n",
    "\n",
    "                _, c = sess.run([optimizer, cost], feed_dict={x: batch_x, y: batch_y})\n",
    "                epoch_loss += c\n",
    "                i+=batch_size\n",
    "                last_cost = c\n",
    "\n",
    "            # print cost updates along the way\n",
    "            if (epoch% (epochs/5)) == 0:\n",
    "                print('Epoch', epoch, 'completed out of',epochs,'cost:', last_cost)\n",
    "        \n",
    "        # print accuracy of our model\n",
    "        accuracy = tf.reduce_mean(tf.square(prediction - y))\n",
    "        print('Accuracy:',accuracy.eval({x:test_x, y:test_y}))\n",
    "\n",
    "        #output_weight = sess.run(output_layer['weight'])\n",
    "        #output_bias = sess.run(output_layer['bias'])\n",
    "        \n",
    "        # print predictions using our model\n",
    "        test_pred = []\n",
    "        for i,t in enumerate(test_x):\n",
    "            output = prediction.eval(feed_dict = {x: [test_x[i]]})\n",
    "            # normalize the prediction values\n",
    "            test_pred.append(output[0][0])\n",
    "        #plt.scatter(train_x, train_y, color='r')\n",
    "        #plt.scatter(test_x, test_pred, color='b')\n",
    "        #plt.show()\n",
    "        \n",
    "train_ann_sine_function(x)"
   ]
  },
  {
   "cell_type": "code",
   "execution_count": 57,
   "metadata": {
    "collapsed": false
   },
   "outputs": [
    {
     "ename": "NameError",
     "evalue": "name 'test_pred' is not defined",
     "output_type": "error",
     "traceback": [
      "\u001b[0;31m---------------------------------------------------------------------------\u001b[0m",
      "\u001b[0;31mNameError\u001b[0m                                 Traceback (most recent call last)",
      "\u001b[0;32m<ipython-input-57-31a8e28dc46e>\u001b[0m in \u001b[0;36m<module>\u001b[0;34m()\u001b[0m\n\u001b[1;32m      1\u001b[0m \u001b[0mplt\u001b[0m\u001b[0;34m.\u001b[0m\u001b[0mscatter\u001b[0m\u001b[0;34m(\u001b[0m\u001b[0mtrain_x\u001b[0m\u001b[0;34m,\u001b[0m \u001b[0mtrain_y\u001b[0m\u001b[0;34m,\u001b[0m \u001b[0mcolor\u001b[0m\u001b[0;34m=\u001b[0m\u001b[0;34m'r'\u001b[0m\u001b[0;34m)\u001b[0m\u001b[0;34m\u001b[0m\u001b[0m\n\u001b[0;32m----> 2\u001b[0;31m \u001b[0mplt\u001b[0m\u001b[0;34m.\u001b[0m\u001b[0mscatter\u001b[0m\u001b[0;34m(\u001b[0m\u001b[0mtest_x\u001b[0m\u001b[0;34m,\u001b[0m \u001b[0mtest_pred\u001b[0m\u001b[0;34m,\u001b[0m \u001b[0mcolor\u001b[0m\u001b[0;34m=\u001b[0m\u001b[0;34m'b'\u001b[0m\u001b[0;34m)\u001b[0m\u001b[0;34m\u001b[0m\u001b[0m\n\u001b[0m\u001b[1;32m      3\u001b[0m \u001b[0mplt\u001b[0m\u001b[0;34m.\u001b[0m\u001b[0mshow\u001b[0m\u001b[0;34m(\u001b[0m\u001b[0;34m)\u001b[0m\u001b[0;34m\u001b[0m\u001b[0m\n",
      "\u001b[0;31mNameError\u001b[0m: name 'test_pred' is not defined"
     ]
    }
   ],
   "source": [
    "plt.scatter(train_x, train_y, color='r')\n",
    "plt.scatter(test_x, test_pred, color='b')\n",
    "plt.show()"
   ]
  },
  {
   "cell_type": "code",
   "execution_count": null,
   "metadata": {
    "collapsed": true
   },
   "outputs": [],
   "source": []
  }
 ],
 "metadata": {
  "anaconda-cloud": {},
  "kernelspec": {
   "display_name": "Python [conda root]",
   "language": "python",
   "name": "conda-root-py"
  },
  "language_info": {
   "codemirror_mode": {
    "name": "ipython",
    "version": 2
   },
   "file_extension": ".py",
   "mimetype": "text/x-python",
   "name": "python",
   "nbconvert_exporter": "python",
   "pygments_lexer": "ipython2",
   "version": "2.7.12"
  }
 },
 "nbformat": 4,
 "nbformat_minor": 2
}
